{
 "cells": [
  {
   "cell_type": "code",
   "execution_count": 1,
   "id": "e3e33f88-24f3-4ee3-915b-bb202e31ec26",
   "metadata": {},
   "outputs": [
    {
     "name": "stdout",
     "output_type": "stream",
     "text": [
      "HEWLETT-PACKARD,4155A,0,01.04:01.04:01.00\n",
      "b'*'\n",
      "\n"
     ]
    }
   ],
   "source": [
    "%load_ext autoreload\n",
    "%autoreload 2\n",
    "%matplotlib agg\n",
    "    \n",
    "import pandas as pd\n",
    "import numpy as np\n",
    "import matplotlib.pyplot as plt\n",
    "       \n",
    "from HPIB.HP4155 import HP4155\n",
    "from HPIB.HPT import Plot, PlotVgs, PlotVp, CalcIsSat, SecDer, Plot2P\n",
    "from HPIB.DevParams import UMC\n",
    "from HPIB.INOSerial import Arduino\n",
    "\n",
    "from BFmodule import DR\n",
    "\n",
    "# from YFunc import YFuncExtraction\n",
    "\n",
    "from IPython.display import clear_output, display\n",
    "from os import makedirs, rename\n",
    "from time import sleep\n",
    "from datetime import datetime, timedelta\n",
    "\n",
    "HP=HP4155(\"GPIB0::17\", debug=False)\n",
    "# HP.reset()\n",
    "# HP.IntTime=\"LONG\"\n",
    "\n",
    "INO=Arduino(\"COM3\")\n",
    "print(INO.ask('*'.encode()))\n",
    "\n",
    "# Elsa=DR()"
   ]
  },
  {
   "cell_type": "code",
   "execution_count": 2,
   "id": "11e5ad00-6217-44fb-b6ed-54362bb4d602",
   "metadata": {},
   "outputs": [],
   "source": [
    "params = {\n",
    "'Vmin' : 0,\n",
    "'Vmax' : 1.5,\n",
    "'Vstep' : 0.02,\n",
    "\n",
    "'Vgmin' : 0.6,\n",
    "'Vgmax' : 1.4,\n",
    "'Vgstep' : 0.2,\n",
    "\n",
    "'Vfmin' : 0,\n",
    "'Vfmax' : 2,\n",
    "'Vfstep' : 0.01,\n",
    "'IComp' : 1e-3,\n",
    "\n",
    "'Ifmin' : -5e-3,\n",
    "'Ifmax' : 5e-3,\n",
    "'Ifpoints' : 50,\n",
    "'Iffactor' : 50,\n",
    "'VComp' : 1.5,\n",
    "\n",
    "'Vd' : 0.025,\n",
    "'temp' : 3.338,\n",
    "'HiPot' : False,\n",
    "'min_wait' : 30\n",
    "}\n",
    "\n",
    "DeviceList = ['TP2', 'DN1', 'TP12', 'TN4']\n",
    "# DeviceList = ['', '', '', 'TN4', '', '']\n",
    "path = \"C:/Users/Zucchi/Documents/Medidas/241217 TP2 DN1 TP12 TN4/\"\n",
    "makedirs(path, exist_ok=True)"
   ]
  },
  {
   "cell_type": "code",
   "execution_count": 11,
   "id": "67fa3293-9ec2-4e46-a05c-d942546f3802",
   "metadata": {},
   "outputs": [
    {
     "name": "stdin",
     "output_type": "stream",
     "text": [
      " 2\n"
     ]
    },
    {
     "data": {
      "text/plain": [
       "'Open INO: ch 2'"
      ]
     },
     "execution_count": 11,
     "metadata": {},
     "output_type": "execute_result"
    }
   ],
   "source": [
    "INO.opench(int(input()))"
   ]
  },
  {
   "cell_type": "code",
   "execution_count": 12,
   "id": "000d77dd-8ccc-4e2c-9bc5-4a72bea54b4c",
   "metadata": {},
   "outputs": [
    {
     "data": {
      "text/plain": [
       "0"
      ]
     },
     "execution_count": 12,
     "metadata": {},
     "output_type": "execute_result"
    }
   ],
   "source": [
    "HP.measure()"
   ]
  },
  {
   "cell_type": "code",
   "execution_count": 13,
   "id": "bfca27d2-19fc-4a15-9ce1-0b6c0702ea8f",
   "metadata": {},
   "outputs": [
    {
     "data": {
      "text/plain": [
       "0"
      ]
     },
     "execution_count": 13,
     "metadata": {},
     "output_type": "execute_result"
    }
   ],
   "source": [
    "HP.stop()"
   ]
  },
  {
   "cell_type": "code",
   "execution_count": 10,
   "id": "0b06fe33-df85-4648-93c3-798b71198ab9",
   "metadata": {},
   "outputs": [
    {
     "name": "stdout",
     "output_type": "stream",
     "text": [
      "Set IdxVgs\n",
      "Vg=(0, -1.5, -0.02), Vd=-0.025, Ilim=0.001\n"
     ]
    },
    {
     "data": {
      "text/plain": [
       "0"
      ]
     },
     "execution_count": 10,
     "metadata": {},
     "output_type": "execute_result"
    }
   ],
   "source": [
    "HP.SetVgs(params['Vmin'], params['Vmax'], params['Vstep'], params['Vd'], ptype=True)"
   ]
  },
  {
   "cell_type": "code",
   "execution_count": 28,
   "id": "d8108a5c-7899-42e5-82c5-f4dbf534e071",
   "metadata": {},
   "outputs": [
    {
     "name": "stdout",
     "output_type": "stream",
     "text": [
      "Done IdxVgs. Duration: 34 s                                     \n"
     ]
    }
   ],
   "source": [
    "pathp=path+'TN3'\n",
    "makedirs(pathp, exist_ok=True)\n",
    "now=datetime.now().strftime('%y%m%d %H%M')\n",
    "        \n",
    "LIN = PlotVgs(HP.SingleSave(f\"{pathp}/IdVgs - {now}.csv\", timeout=30))"
   ]
  },
  {
   "cell_type": "code",
   "execution_count": 5,
   "id": "08a9db02-4bfa-467d-8b67-bb004a3bf819",
   "metadata": {},
   "outputs": [
    {
     "name": "stdout",
     "output_type": "stream",
     "text": [
      "Set Diode\n",
      "Vf=(1.5, -1.5)\n"
     ]
    },
    {
     "data": {
      "text/plain": [
       "0"
      ]
     },
     "execution_count": 5,
     "metadata": {},
     "output_type": "execute_result"
    }
   ],
   "source": [
    "HP.SetDiode(-1.5, 1.5, 0.05, Comp=0.5e-3)"
   ]
  },
  {
   "cell_type": "code",
   "execution_count": 11,
   "id": "c7975af4-082b-48af-aa0f-e975cf21f94e",
   "metadata": {},
   "outputs": [
    {
     "name": "stdout",
     "output_type": "stream",
     "text": [
      "Diode=(0, 1, 0.01)\n"
     ]
    },
    {
     "data": {
      "text/plain": [
       "0"
      ]
     },
     "execution_count": 11,
     "metadata": {},
     "output_type": "execute_result"
    }
   ],
   "source": [
    "HP.Diode4P(0, 1, 0.01)"
   ]
  },
  {
   "cell_type": "code",
   "execution_count": 13,
   "id": "f9ffe879-afcb-4df4-9dec-ad87a1442675",
   "metadata": {},
   "outputs": [
    {
     "name": "stdout",
     "output_type": "stream",
     "text": [
      "Diode=(0, 1, 0.05)\n"
     ]
    },
    {
     "data": {
      "text/plain": [
       "0"
      ]
     },
     "execution_count": 13,
     "metadata": {},
     "output_type": "execute_result"
    }
   ],
   "source": [
    "HP.SingleDiode(0, 1, 0.05, Comp=0.5e-3, SMUP=\"SMU2\", SMUN=\"SMU1\")"
   ]
  },
  {
   "cell_type": "code",
   "execution_count": 24,
   "id": "0e251eb0-8512-4ea6-9093-0606a758735b",
   "metadata": {},
   "outputs": [],
   "source": [
    "HP.IntTime=\"LONG\""
   ]
  },
  {
   "cell_type": "code",
   "execution_count": 20,
   "id": "070de5c4-8b55-416d-b316-6ebc7ea6a9fe",
   "metadata": {},
   "outputs": [],
   "source": [
    "HP.IntTime=\"SHOR\""
   ]
  },
  {
   "cell_type": "code",
   "execution_count": 30,
   "id": "50fd1ff2-69b3-4c4f-b4b5-15c6b114942e",
   "metadata": {},
   "outputs": [
    {
     "name": "stdout",
     "output_type": "stream",
     "text": [
      "Set IdxVgs\n",
      "Vg=(0, -1.5, -0.02), Vd=-0.025, Ilim=0.001\n",
      "Done IdxVgs. Duration: 39 s                                     \n",
      "Set Diode\n",
      "Vf=(0, -1.5)\n",
      "Done Diode. Duration: 13 s                                     \n",
      "Set IdxVgs\n",
      "Vg=(0, -1.5, -0.02), Vd=-0.025, Ilim=0.001\n",
      "Done IdxVgs. Duration: 35 s                                     \n",
      "Set Diode\n",
      "Vf=(0, -1.5)\n",
      "Done Diode. Duration: 13 s                                     \n"
     ]
    },
    {
     "name": "stderr",
     "output_type": "stream",
     "text": [
      "C:\\Users\\Zucchi\\Jupyter\\HPIB\\HPIB\\HPT.py:81: RuntimeWarning: More than 20 figures have been opened. Figures created through the pyplot interface (`matplotlib.pyplot.figure`) are retained until explicitly closed and may consume too much memory. (To control this warning, see the rcParam `figure.max_open_warning`). Consider using `matplotlib.pyplot.close()`.\n",
      "  fig, ax1=plt.subplots(figsize=(sizex*px,(sizex*480/640)*px))\n"
     ]
    },
    {
     "name": "stdout",
     "output_type": "stream",
     "text": [
      "Set IdxVgs\n",
      "Vg=(0, -1.5, -0.02), Vd=-0.025, Ilim=0.001\n",
      "Done IdxVgs. Duration: 35 s                                     \n",
      "Set Diode\n",
      "Vf=(0, -1.5)\n",
      "Done Diode. Duration: 13 s                                     \n",
      "Set IdxVgs\n",
      "Vg=(0, 1.5, 0.02), Vd=0.025, Ilim=0.001\n",
      "Done IdxVgs. Duration: 40 s                                     \n",
      "Set Diode\n",
      "Vf=(0, 1.5)\n",
      "Done Diode. Duration: 13 s                                     \n"
     ]
    }
   ],
   "source": [
    "# DeviceList = ['TP1', 'TP8', 'TP5', 'TN10', 'DN2']\n",
    "\n",
    "for n, device in enumerate(DeviceList):\n",
    "    ptype=False\n",
    "    if 'p' in device.lower():\n",
    "        ptype=True\n",
    "    pathp=path+device\n",
    "    \n",
    "    makedirs(pathp, exist_ok=True)\n",
    "    plt.close('all')\n",
    "    if device:\n",
    "        INO.opench(n+1)\n",
    "\n",
    "    if 'T' in device.upper():\n",
    "        HP.SetVgs(params['Vmin'], params['Vmax'], params['Vstep'], params['Vd'], ptype=ptype)\n",
    "        now=datetime.now().strftime('%y%m%d %H%M')\n",
    "        \n",
    "        LIN = PlotVgs(HP.SingleSave(f\"{pathp}/IdVgs - {now}.csv\", timeout=30))\n",
    "        \n",
    "        temp=format(Elsa.GetT('t4k'), '07.3f')\n",
    "        rename(f\"{pathp}/IdVgs - {now}.csv\", f\"{pathp}/IdVgs - {temp} - {now}.csv\")\n",
    "        rename(f\"{pathp}/IdVgs - {now}.png\", f\"{pathp}/IdVgs - {temp} - {now}.png\")\n",
    "        \n",
    "        HP.SetDiode(0, 1.5 if ptype else -1.5, 0.05 if ptype else -0.05, Comp=0.5e-3)\n",
    "        now=datetime.now().strftime('%y%m%d %H%M')\n",
    "        Plot(HP.SingleSave(f\"{pathp}/Diode - {now}.csv\", timeout=30), 'Vf', ['Id', 'Is'])\n",
    "        \n",
    "        temp=format(Elsa.GetT('t4k'), '07.3f')\n",
    "        rename(f\"{pathp}/Diode - {now}.csv\", f\"{pathp}/Diode - {temp} - {now}.csv\")\n",
    "        rename(f\"{pathp}/Diode - {now}.png\", f\"{pathp}/Diode - {temp} - {now}.png\")\n",
    "        \n",
    "    if 'D' in device.upper():\n",
    "        now=datetime.now().strftime('%y%m%d %H%M%S')\n",
    "        HP.SingleDiode(-1.5, 1.5, 0.1, SMUP='SMU2', SMUN='SMU1', Comp=0.5e-3)\n",
    "        Plot(HP.SingleSave(f\"{pathp}/Diode - {now}.csv\", timeout=30), 'Vf', 'If')\n",
    "\n",
    "        now=datetime.now().strftime('%y%m%d %H%M%S')\n",
    "        HP.SingleDiode(0, -1.5, 0.01, SMUP='SMU4', SMUN='SMU3', Comp=0.5e-3)\n",
    "        Plot(HP.SingleSave(f\"{pathp}/Diode - {now}.csv\", timeout=30), 'Vf', 'If')"
   ]
  },
  {
   "cell_type": "code",
   "execution_count": null,
   "id": "cfc17c32-9c6c-46cf-b7be-d5837d939fe1",
   "metadata": {},
   "outputs": [],
   "source": []
  }
 ],
 "metadata": {
  "kernelspec": {
   "display_name": "Python 3 (ipykernel)",
   "language": "python",
   "name": "python3"
  },
  "language_info": {
   "codemirror_mode": {
    "name": "ipython",
    "version": 3
   },
   "file_extension": ".py",
   "mimetype": "text/x-python",
   "name": "python",
   "nbconvert_exporter": "python",
   "pygments_lexer": "ipython3",
   "version": "3.11.4"
  }
 },
 "nbformat": 4,
 "nbformat_minor": 5
}

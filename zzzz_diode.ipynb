{
 "cells": [
  {
   "cell_type": "code",
   "execution_count": 3,
   "id": "fb2ec69b-b23f-4b07-b766-0536cc001ca2",
   "metadata": {},
   "outputs": [
    {
     "name": "stdout",
     "output_type": "stream",
     "text": [
      "The autoreload extension is already loaded. To reload it, use:\n",
      "  %reload_ext autoreload\n",
      "Magic Loaded\n"
     ]
    }
   ],
   "source": [
    "%load_ext autoreload\n",
    "%autoreload 2\n",
    "%matplotlib agg\n",
    "\n",
    "import sys\n",
    "ipython = get_ipython()\n",
    "\n",
    "def hide_traceback(exc_tuple=None, filename=None, tb_offset=None,\n",
    "                   exception_only=False, running_compiled_code=False):\n",
    "    etype, value, tb = sys.exc_info()\n",
    "    return ipython._showtraceback(etype, value, ipython.InteractiveTB.get_exception_only(etype, value))\n",
    "\n",
    "ipython.showtraceback = hide_traceback\n",
    "    \n",
    "print(\"Magic Loaded\")"
   ]
  },
  {
   "cell_type": "code",
   "execution_count": 34,
   "id": "d51bfeca-8e31-4125-acc8-9189009f8099",
   "metadata": {},
   "outputs": [],
   "source": [
    "SM.inst.close()"
   ]
  },
  {
   "cell_type": "code",
   "execution_count": 1,
   "id": "725eb79a-43c8-4d98-a3cf-fb429ff3b80e",
   "metadata": {},
   "outputs": [
    {
     "name": "stdout",
     "output_type": "stream",
     "text": [
      "Opening API at 143.106.18.130\n",
      "Elsa v2.4.2\n",
      "HEWLETT-PACKARD,4155A,0,01.04:01.04:01.00\n",
      "b'*'\n",
      "\n"
     ]
    }
   ],
   "source": [
    "%load_ext autoreload\n",
    "%autoreload 2\n",
    "%matplotlib agg\n",
    "\n",
    "import pandas as pd\n",
    "import numpy as np\n",
    "import matplotlib.pyplot as plt\n",
    "       \n",
    "from HPIB.HP4155 import HP4155\n",
    "from HPIB.HPT import Plot, PlotVgs, PlotVp, CalcIsSat, SecDer, Plot2P, PlotDiode4P,WriteLog\n",
    "from HPIB.DevParams import UMC\n",
    "from HPIB.INOSerial import Arduino\n",
    "\n",
    "from BFmodule import DR\n",
    "\n",
    "from YFunc import YFuncExtraction\n",
    "#from Test import TestDevice, WriteLog\n",
    "\n",
    "from IPython.display import clear_output, display\n",
    "from os import makedirs, rename\n",
    "from os.path import isfile\n",
    "from time import sasleep\n",
    "from datetime import datetime, timedelta\n",
    "\n",
    "Elsa=DR()\n",
    "\n",
    "HP=HP4155(\"GPIB0::17\", debug=False)\n",
    "\n",
    "SM=Arduino(\"COM3\")\n",
    "print(SM.ask('*'.encode()))"
   ]
  },
  {
   "cell_type": "code",
   "execution_count": 2,
   "id": "838eec0c-7e51-4b06-b6fb-d53fe5d574a0",
   "metadata": {},
   "outputs": [
    {
     "data": {
      "text/plain": [
       "'Open INO: ch 3'"
      ]
     },
     "execution_count": 2,
     "metadata": {},
     "output_type": "execute_result"
    }
   ],
   "source": [
    "SM.opench(3)\n"
   ]
  },
  {
   "cell_type": "code",
   "execution_count": 28,
   "id": "84c7a3d1-2809-4a7e-92a2-5213d7c6d7aa",
   "metadata": {},
   "outputs": [],
   "source": [
    "HP.IntTime = \"LONG\""
   ]
  },
  {
   "cell_type": "code",
   "execution_count": 28,
   "id": "5a06a7b2-ee3e-4d36-894a-7907ee74b525",
   "metadata": {},
   "outputs": [
    {
     "name": "stdout",
     "output_type": "stream",
     "text": [
      "Set IdxVgs\n",
      "Vg=(0, 1, 0.1), Vd=0.025, Ilim=0.001\n"
     ]
    },
    {
     "data": {
      "text/plain": [
       "0"
      ]
     },
     "execution_count": 28,
     "metadata": {},
     "output_type": "execute_result"
    }
   ],
   "source": [
    "HP.SetVgs(0, 1, 0.1)"
   ]
  },
  {
   "cell_type": "code",
   "execution_count": 77,
   "id": "117d3cb3-fff1-45e1-a1e1-2b069c14a7bb",
   "metadata": {},
   "outputs": [
    {
     "name": "stdout",
     "output_type": "stream",
     "text": [
      "Diode=(-0.5, 1, 0.025)\n"
     ]
    },
    {
     "data": {
      "text/plain": [
       "0"
      ]
     },
     "execution_count": 77,
     "metadata": {},
     "output_type": "execute_result"
    }
   ],
   "source": [
    "HP.Diode4P(-0.5, 1, 0.025, Im='SMU1', Ip='SMU2', Vm='SMU3', Vp='SMU4', Comp=2e-3)"
   ]
  },
  {
   "cell_type": "code",
   "execution_count": 78,
   "id": "749bbe5d-b4a2-4f5f-9e03-7b576a208988",
   "metadata": {},
   "outputs": [
    {
     "name": "stdout",
     "output_type": "stream",
     "text": [
      "Done Diode4P. Duration: 0:00:39                                       \n"
     ]
    }
   ],
   "source": [
    "print(f\"Measuring {HP.term} \", end='')\n",
    "HP.measure() \n",
    "Poll=HP.PollDR(1, 1, 5)\n",
    "if not Poll: df=HP.get_realdata()\n",
    "else: print(\"Timeout\")"
   ]
  },
  {
   "cell_type": "code",
   "execution_count": 76,
   "id": "f34661c0-2013-4978-af51-cc9134e416f3",
   "metadata": {},
   "outputs": [
    {
     "data": {
      "text/plain": [
       "0"
      ]
     },
     "execution_count": 76,
     "metadata": {},
     "output_type": "execute_result"
    }
   ],
   "source": [
    "HP.stop()"
   ]
  },
  {
   "cell_type": "code",
   "execution_count": 30,
   "id": "592fffcc-e148-4341-ba6b-b6d6227f9d39",
   "metadata": {},
   "outputs": [
    {
     "data": {
      "text/html": [
       "<div>\n",
       "<style scoped>\n",
       "    .dataframe tbody tr th:only-of-type {\n",
       "        vertical-align: middle;\n",
       "    }\n",
       "\n",
       "    .dataframe tbody tr th {\n",
       "        vertical-align: top;\n",
       "    }\n",
       "\n",
       "    .dataframe thead tr th {\n",
       "        text-align: left;\n",
       "    }\n",
       "</style>\n",
       "<table border=\"1\" class=\"dataframe\">\n",
       "  <thead>\n",
       "    <tr>\n",
       "      <th>Trace</th>\n",
       "      <th>Vf</th>\n",
       "      <th>V</th>\n",
       "      <th>If</th>\n",
       "    </tr>\n",
       "    <tr>\n",
       "      <th>None</th>\n",
       "      <th>None</th>\n",
       "      <th>None</th>\n",
       "      <th>None</th>\n",
       "    </tr>\n",
       "  </thead>\n",
       "  <tbody>\n",
       "    <tr>\n",
       "      <th>0</th>\n",
       "      <td>-0.50</td>\n",
       "      <td>-0.500026</td>\n",
       "      <td>-7.859000e-10</td>\n",
       "    </tr>\n",
       "    <tr>\n",
       "      <th>1</th>\n",
       "      <td>-0.49</td>\n",
       "      <td>-0.490066</td>\n",
       "      <td>-7.538000e-10</td>\n",
       "    </tr>\n",
       "    <tr>\n",
       "      <th>2</th>\n",
       "      <td>-0.48</td>\n",
       "      <td>-0.480040</td>\n",
       "      <td>-7.351000e-10</td>\n",
       "    </tr>\n",
       "    <tr>\n",
       "      <th>3</th>\n",
       "      <td>-0.47</td>\n",
       "      <td>-0.470106</td>\n",
       "      <td>-7.263000e-10</td>\n",
       "    </tr>\n",
       "    <tr>\n",
       "      <th>4</th>\n",
       "      <td>-0.46</td>\n",
       "      <td>-0.460080</td>\n",
       "      <td>-7.183000e-10</td>\n",
       "    </tr>\n",
       "    <tr>\n",
       "      <th>...</th>\n",
       "      <td>...</td>\n",
       "      <td>...</td>\n",
       "      <td>...</td>\n",
       "    </tr>\n",
       "    <tr>\n",
       "      <th>108</th>\n",
       "      <td>0.58</td>\n",
       "      <td>0.578940</td>\n",
       "      <td>8.286380e-04</td>\n",
       "    </tr>\n",
       "    <tr>\n",
       "      <th>109</th>\n",
       "      <td>0.59</td>\n",
       "      <td>0.588676</td>\n",
       "      <td>1.009542e-03</td>\n",
       "    </tr>\n",
       "    <tr>\n",
       "      <th>110</th>\n",
       "      <td>0.60</td>\n",
       "      <td>0.598430</td>\n",
       "      <td>1.230100e-03</td>\n",
       "    </tr>\n",
       "    <tr>\n",
       "      <th>111</th>\n",
       "      <td>0.61</td>\n",
       "      <td>0.608132</td>\n",
       "      <td>1.497110e-03</td>\n",
       "    </tr>\n",
       "    <tr>\n",
       "      <th>112</th>\n",
       "      <td>0.62</td>\n",
       "      <td>0.617688</td>\n",
       "      <td>1.816920e-03</td>\n",
       "    </tr>\n",
       "  </tbody>\n",
       "</table>\n",
       "<p>113 rows × 3 columns</p>\n",
       "</div>"
      ],
      "text/plain": [
       "Trace    Vf         V            If\n",
       "None   None      None          None\n",
       "0     -0.50 -0.500026 -7.859000e-10\n",
       "1     -0.49 -0.490066 -7.538000e-10\n",
       "2     -0.48 -0.480040 -7.351000e-10\n",
       "3     -0.47 -0.470106 -7.263000e-10\n",
       "4     -0.46 -0.460080 -7.183000e-10\n",
       "..      ...       ...           ...\n",
       "108    0.58  0.578940  8.286380e-04\n",
       "109    0.59  0.588676  1.009542e-03\n",
       "110    0.60  0.598430  1.230100e-03\n",
       "111    0.61  0.608132  1.497110e-03\n",
       "112    0.62  0.617688  1.816920e-03\n",
       "\n",
       "[113 rows x 3 columns]"
      ]
     },
     "execution_count": 30,
     "metadata": {},
     "output_type": "execute_result"
    }
   ],
   "source": [
    "df"
   ]
  },
  {
   "cell_type": "code",
   "execution_count": 82,
   "id": "2ef07c62-e11b-42f8-a624-7032467f8a9a",
   "metadata": {},
   "outputs": [],
   "source": [
    "path = \"C:/Users/Zucchi/Documents/Medidas/Medidas_Mari/250924-diodo/diodo_res/long\"\n",
    "makedirs(path, exist_ok=True)\n",
    "path =  f\"{path}/{HP.term}-{datetime.now().strftime('%y%m%d %H%M%S')}.csv\"\n",
    "\n",
    "df.to_csv(path, float_format='%+.6E')\n",
    "\n",
    "V=df[\"Vf\"][\"None\"].to_numpy()\n",
    "I=df[\"If\"][\"None\"].to_numpy()"
   ]
  },
  {
   "cell_type": "code",
   "execution_count": 83,
   "id": "11705ed6-1421-4d2b-a36c-7640123e0881",
   "metadata": {},
   "outputs": [
    {
     "name": "stdout",
     "output_type": "stream",
     "text": [
      "I0=5.705975e-10\n"
     ]
    }
   ],
   "source": [
    "print(f\"I0={-np.average(I[V<-0.1])}\")"
   ]
  },
  {
   "cell_type": "code",
   "execution_count": 32,
   "id": "79c164d8-28fe-4553-b1f1-f8a7cdf873bb",
   "metadata": {},
   "outputs": [
    {
     "data": {
      "image/png": "[encoded data removed]",
      "text/plain": [
       "<Figure size 640x480 with 2 Axes>"
      ]
     },
     "metadata": {},
     "output_type": "display_data"
    }
   ],
   "source": [
    "%matplotlib inline\n",
    "\n",
    "\n",
    "fig , ax = plt.subplots()\n",
    "ax.plot(V, I*1e3, 'or')\n",
    "\n",
    "###################################################\n",
    "# ext e escala mais fãcil\n",
    "path =  path.replace('csv', 'png')\n",
    "\n",
    "fig.savefig(path) \n",
    "\n",
    "ax.set_yscale('log')\n",
    "fig.savefig(path.replace('.', '-log.'))\n",
    "\n",
    "ax.set_yscale('linear')\n",
    "ax2=plt.twinx(ax)\n",
    "ax2.plot(V, I*1e3, 'x')\n",
    "ax2.set_yscale('log')\n",
    "fig.savefig(path.replace('.', '-twin.'))\n",
    "\n",
    "\n",
    "#suposição que v>3*vt (300k) artigo do zuchi "
   ]
  },
  {
   "cell_type": "code",
   "execution_count": null,
   "id": "3c3ceb8f-155f-44d4-89dc-89a3e0036f9d",
   "metadata": {},
   "outputs": [],
   "source": [
    "#gmodel lmfit - no linnear the model class - independent vars pra definir a temperatura como constante \n",
    "#usar lmfit pra tirar minimos quadrados extrair rs n e io \n",
    "#ver modelo do zuchi \n",
    "#xi model "
   ]
  },
  {
   "cell_type": "code",
   "execution_count": 84,
   "id": "388336d3-c74d-49a2-9892-44e50d559b70",
   "metadata": {},
   "outputs": [
    {
     "name": "stdout",
     "output_type": "stream",
     "text": [
      "[1.04267633e+00 6.93981707e-10 1.00000000e-10 2.95000000e+02]\n",
      "[1.43980485e+00 6.10480163e-10 6.83918091e+01 2.95501764e+02]\n",
      "[1.56346178e+00 5.77416282e-10 3.06206184e+01 2.95658002e+02]\n",
      "[1.55229905e+00 5.03145664e-10 2.89407123e+01 2.95643898e+02]\n",
      "[1.54958935e+00 4.69163351e-10 2.95390893e+01 2.94193404e+02]\n",
      "[1.54949434e+00 4.69032515e-10 2.95786845e+01 2.94142543e+02]\n",
      "[1.54949337e+00 4.69021734e-10 2.95791197e+01 2.94142027e+02]\n",
      "[1.54949337e+00 4.69021734e-10 2.95791197e+01 2.94142027e+02]\n",
      "`xtol` termination condition is satisfied.\n",
      "Function evaluations 8, initial cost 7.0035e-02, final cost 1.1947e-05, first-order optimality 2.83e-03.\n",
      "[1.54949337e+00 4.69021734e-10 2.95791197e+01 2.94142027e+02]\n"
     ]
    },
    {
     "name": "stderr",
     "output_type": "stream",
     "text": [
      "C:\\Users\\Zucchi\\AppData\\Local\\Temp\\ipykernel_2404\\1621384125.py:6: RuntimeWarning: invalid value encountered in log\n",
      "  return n*Ut*np.log(If/I0)+Rs*If\n"
     ]
    },
    {
     "data": {
      "image/png": "[encoded data removed]",
      "text/plain": [
       "<Figure size 640x480 with 2 Axes>"
      ]
     },
     "metadata": {},
     "output_type": "display_data"
    }
   ],
   "source": [
    "from scipy.optimize import least_squares\n",
    "\n",
    "def Vf(If, x):\n",
    "    n, I0, Rs, T=x\n",
    "    Ut=k*T/e\n",
    "    return n*Ut*np.log(If/I0)+Rs*If\n",
    "\n",
    "def CostVf(x, I, V, weight):\n",
    "    print(x)\n",
    "    return weight*(Vf(I, x)-V)\n",
    "\n",
    "def jac(x, I, V, weight):\n",
    "    n, I0, Rs, T=x\n",
    "    Ut=k*T/e\n",
    "    jac_x0=Ut*np.log(I/I0)\n",
    "    jac_x1=[-n*Ut/I0 for x in I]\n",
    "    jac_x2=I\n",
    "    jac_x3=n*k*np.log(I/I0)/e\n",
    "    return np.transpose(weight*[jac_x0, jac_x1, jac_x2, jac_x3])\n",
    "\n",
    "V_fit = V[np.where(I>1e-8)]\n",
    "I_fit = I[np.where(I>1e-8)]\n",
    "\n",
    "p=np.polyfit(np.log(I_fit), V_fit, 1)\n",
    "\n",
    "x0 = [np.exp(p[0]), np.exp(-p[1]/p[0]), 0, 295]\n",
    "\n",
    "x0_bounds = (1,5)\n",
    "x1_bounds = (0, 1)\n",
    "x2_bounds = (0, np.inf)  # +/- np.inf can be used instead of None\n",
    "x3_bounds = (0, 300)\n",
    "bounds = np.transpose([x0_bounds, x1_bounds, x2_bounds, x3_bounds])\n",
    "\n",
    "# Fit model to data\n",
    "res = least_squares(CostVf, x0, jac=jac, bounds=bounds, kwargs={\"I\":I_fit, \"V\": V_fit, \"weight\":V_fit}, verbose=1, ftol=1e-12, gtol=1e-15)\n",
    "\n",
    "print(res.x)\n",
    "n, I0, Rs, T= res.x\n",
    "\n",
    "fig , ax = plt.subplots()\n",
    "ax.plot(V, I*1e3, '.r')\n",
    "\n",
    "ax2=plt.twinx(ax)\n",
    "ax2.plot(V, I*1e3, 'xb')\n",
    "ax.set_yscale('log')\n",
    "\n",
    "ax.plot(Vf(I, res.x), I*1e3,\"k--\",label = \"fit\")\n",
    "ax2.plot(Vf(I, res.x), I*1e3,\"k--\")\n",
    "ax.set_xlim((0,None))\n",
    "ax.legend()\n",
    "\n",
    "ax.set_ylabel(\"$I_f$ (mA)\")\n",
    "ax.set_xlabel(\"$V_f$ (V)\")\n",
    "\n",
    "ax.set_title(\"4007 IxV\")\n",
    "ax.text(0.05,1e-3, \" n = %.2f\\n $I_0$ = %.2e A\\n $R_s$ = %.1f $\\mathrm{\\Omega}$\" %(n,I0,Rs))\n",
    "\n",
    "fig.savefig(path.replace('.csv', '.png'))\n"
   ]
  },
  {
   "cell_type": "code",
   "execution_count": 69,
   "id": "dba7f746-63fe-495c-b9a2-ee0806a1893c",
   "metadata": {},
   "outputs": [
    {
     "name": "stdout",
     "output_type": "stream",
     "text": [
      "6.026247384887791e-10 1.0416934373327016\n",
      "[[Model]]\n",
      "    Model(Vf)\n",
      "[[Fit Statistics]]\n",
      "    # fitting method   = leastsq\n",
      "    # function evals   = 23\n",
      "    # data points      = 32\n",
      "    # variables        = 2\n",
      "    chi-square         = 1.9350e-04\n",
      "    reduced chi-square = 6.4501e-06\n",
      "    Akaike info crit   = -380.510437\n",
      "    Bayesian info crit = -377.578965\n",
      "    R-squared          = 0.99642783\n",
      "[[Variables]]\n",
      "    n:   1.63369248 +/- 0.01794086 (1.10%) (init = 1.041693)\n",
      "    I0:  7.3947e-10 +/- 1.0009e-10 (13.54%) (init = 6.026247e-10)\n",
      "    Rs:  1 (fixed)\n",
      "    T:   295 (fixed)\n",
      "[[Correlations]] (unreported correlations are < 0.100)\n",
      "    C(n, I0) = +0.9854\n"
     ]
    },
    {
     "data": {
      "image/png": "[encoded data removed]",
      "text/plain": [
       "<Figure size 640x480 with 1 Axes>"
      ]
     },
     "metadata": {},
     "output_type": "display_data"
    }
   ],
   "source": [
    "import numpy as np\n",
    "import matplotlib.pyplot as plt\n",
    "from scipy.constants import k, e\n",
    "from lmfit import Model, Parameters, create_params\n",
    "\n",
    "V_fit = V[np.where(I>1e-6)]\n",
    "I_fit = I[np.where(I>1e-6)]\n",
    "\n",
    "p=np.polyfit(np.log(I_fit), V_fit, 1)\n",
    "\n",
    "I0=np.exp(-p[1]/p[0])\n",
    "n=np.exp(p[0])\n",
    "print(I0, n)\n",
    "\n",
    "def Vf(If, n, I0, Rs, T):\n",
    "    Ut=k*T/e\n",
    "    return n*Ut*np.log(If/I0)+Rs*If\n",
    "\n",
    "gmodel = Model(Vf)\n",
    "pars_bounded = create_params(n=dict(value=n, min=1),\n",
    "                             I0=dict(value=I0, min=1e-15),\n",
    "                            Rs=dict(value=1, vary=False),\n",
    "                            T=dict(value=295, vary=False))\n",
    "res=gmodel.fit(V_fit, pars_bounded, If=I_fit, weights=V_fit)\n",
    "print(res.fit_report())\n",
    "p=[res.params['n'].value, res.params['I0'].value, res.params['Rs'].value]\n",
    "\n",
    "plt.plot(V_fit, I_fit, 'x')\n",
    "plt.plot(Vf(I_fit, p[0], p[1], p[2], 295), I_fit)\n",
    "plt.show()\n",
    "\n"
   ]
  },
  {
   "cell_type": "code",
   "execution_count": null,
   "id": "f0b2d9ef-9e0f-4c9c-9360-4db187a6c9d4",
   "metadata": {},
   "outputs": [],
   "source": [
    "plt.figure(figsize=(8, 5))\n",
    "plt.plot(V, I, 'bo')\n",
    "plt.ylabel('corrente')\n",
    "plt.xlabel('Tensao')\n",
    "plt.title('Original GDP Data')\n",
    "plt.show()"
   ]
  },
  {
   "cell_type": "code",
   "execution_count": null,
   "id": "75cea6bd-7c2d-4303-9a3e-6de02f9ad4d1",
   "metadata": {},
   "outputs": [],
   "source": [
    "from scipy.optimize import least_squares\n",
    "\n",
    "def Vf(If, x, T):\n",
    "    n, I0, Rs=x\n",
    "    Ut=k*T/e\n",
    "    return n*Ut*np.log(If/I0)+Rs*If\n",
    "\n",
    "#calcula o erro, v dos parametros e o v da entrada\n",
    "def CostVf(x, I, V, T, weight):\n",
    "    print(x)\n",
    "    return weight*(Vf(I, x, T)-V)\n",
    "\n",
    "#derivada do vf x por cada parametro\n",
    "def jac(x, I, V, T, weight):\n",
    "    n, I0, Rs=x\n",
    "    Ut=k*T/e\n",
    "    jac_x0=Ut*np.log(I/I0)\n",
    "    jac_x1=[-n*Ut/I0 for x in I]\n",
    "    jac_x2=I\n",
    "    return np.transpose(weight*[jac_x0, jac_x1, jac_x2])\n",
    "\n",
    "V_fit = V[np.where(I>1e-7)]\n",
    "I_fit = I[np.where(I>1e-7)]\n",
    "\n",
    "p=np.polyfit(np.log(I_fit), V_fit, 1)\n",
    "\n",
    "x0 = [np.exp(p[0]), np.exp(-p[1]/p[0]), 0]\n",
    "\n",
    "x0_bounds = (1,5)\n",
    "x1_bounds = (0, 1)\n",
    "x2_bounds = (0, np.inf)  # +/- np.inf can be used instead of None\n",
    "bounds = np.transpose([x0_bounds, x1_bounds, x2_bounds])\n",
    "\n",
    "# Fit model to data\n",
    "res = least_squares(CostVf, x0, jac=jac, bounds=bounds, kwargs={\"I\":I_fit, \"V\": V_fit, \"T\":295, \"weight\":V_fit}, verbose=1, ftol=1e-12, gtol=1e-15)\n",
    "\n",
    "print(res.x)\n",
    "n, I0, Rs= res.x\n",
    "\n",
    "plt.plot(V_fit, I_fit, 'x')\n",
    "plt.plot(Vf(I_fit, res.x, 295), I_fit)\n",
    "plt.show()"
   ]
  },
  {
   "cell_type": "markdown",
   "id": "64bf6d8e-5e7a-42aa-b1b4-dc5bda5e41b2",
   "metadata": {},
   "source": [
    "# "
   ]
  },
  {
   "cell_type": "markdown",
   "id": "4473ec13-d0bd-4d58-8015-418cc529ee1b",
   "metadata": {},
   "source": [
    "# "
   ]
  }
 ],
 "metadata": {
  "kernelspec": {
   "display_name": "Python 3 (ipykernel)",
   "language": "python",
   "name": "python3"
  },
  "language_info": {
   "codemirror_mode": {
    "name": "ipython",
    "version": 3
   },
   "file_extension": ".py",
   "mimetype": "text/x-python",
   "name": "python",
   "nbconvert_exporter": "python",
   "pygments_lexer": "ipython3",
   "version": "3.11.4"
  }
 },
 "nbformat": 4,
 "nbformat_minor": 5
}

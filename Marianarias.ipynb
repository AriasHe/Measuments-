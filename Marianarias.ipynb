{
 "cells": [
  {
   "cell_type": "code",
   "execution_count": 12,
   "id": "8c0416ef-4f77-433a-9dee-474fdceb71b0",
   "metadata": {
    "slideshow": {
     "slide_type": ""
    },
    "tags": []
   },
   "outputs": [
    {
     "name": "stdout",
     "output_type": "stream",
     "text": [
      "The autoreload extension is already loaded. To reload it, use:\n",
      "  %reload_ext autoreload\n",
      "Opening API at 143.106.18.130\n",
      "Elsa v2.4.2\n",
      "HEWLETT-PACKARD,4155A,0,01.04:01.04:01.00\n",
      "Comm Er\n"
     ]
    },
    {
     "ename": "AttributeError",
     "evalue": "'Arduino' object has no attribute 'inst'",
     "output_type": "error",
     "traceback": [
      "\u001b[1;31m---------------------------------------------------------------------------\u001b[0m",
      "\u001b[1;31mAttributeError\u001b[0m                            Traceback (most recent call last)",
      "Cell \u001b[1;32mIn[12], line 30\u001b[0m\n\u001b[0;32m     27\u001b[0m HP\u001b[38;5;241m=\u001b[39mHP4155(\u001b[38;5;124m\"\u001b[39m\u001b[38;5;124mGPIB0::17\u001b[39m\u001b[38;5;124m\"\u001b[39m, debug\u001b[38;5;241m=\u001b[39m\u001b[38;5;28;01mFalse\u001b[39;00m)\n\u001b[0;32m     29\u001b[0m SM\u001b[38;5;241m=\u001b[39mArduino(\u001b[38;5;124m\"\u001b[39m\u001b[38;5;124mCOM3\u001b[39m\u001b[38;5;124m\"\u001b[39m)\n\u001b[1;32m---> 30\u001b[0m \u001b[38;5;28mprint\u001b[39m(\u001b[43mSM\u001b[49m\u001b[38;5;241;43m.\u001b[39;49m\u001b[43mask\u001b[49m\u001b[43m(\u001b[49m\u001b[38;5;124;43m'\u001b[39;49m\u001b[38;5;124;43m*\u001b[39;49m\u001b[38;5;124;43m'\u001b[39;49m\u001b[38;5;241;43m.\u001b[39;49m\u001b[43mencode\u001b[49m\u001b[43m(\u001b[49m\u001b[43m)\u001b[49m\u001b[43m)\u001b[49m)\n",
      "File \u001b[1;32m~\\Jupyter\\HPIB\\HPIB\\INOSerial.py:20\u001b[0m, in \u001b[0;36mArduino.ask\u001b[1;34m(self, msg)\u001b[0m\n\u001b[0;32m     19\u001b[0m \u001b[38;5;28;01mdef\u001b[39;00m \u001b[38;5;21mask\u001b[39m(\u001b[38;5;28mself\u001b[39m, msg):\n\u001b[1;32m---> 20\u001b[0m     \u001b[38;5;28;43mself\u001b[39;49m\u001b[38;5;241;43m.\u001b[39;49m\u001b[43mwrite\u001b[49m\u001b[43m(\u001b[49m\u001b[43mmsg\u001b[49m\u001b[43m)\u001b[49m\n\u001b[0;32m     21\u001b[0m     time\u001b[38;5;241m.\u001b[39msleep(\u001b[38;5;241m0.01\u001b[39m)\n\u001b[0;32m     22\u001b[0m     \u001b[38;5;28;01mreturn\u001b[39;00m \u001b[38;5;28mself\u001b[39m\u001b[38;5;241m.\u001b[39mread()\n",
      "File \u001b[1;32m~\\Jupyter\\HPIB\\HPIB\\INOSerial.py:14\u001b[0m, in \u001b[0;36mArduino.write\u001b[1;34m(self, msg)\u001b[0m\n\u001b[0;32m     13\u001b[0m \u001b[38;5;28;01mdef\u001b[39;00m \u001b[38;5;21mwrite\u001b[39m(\u001b[38;5;28mself\u001b[39m, msg):\n\u001b[1;32m---> 14\u001b[0m     \u001b[38;5;28;43mself\u001b[39;49m\u001b[38;5;241;43m.\u001b[39;49m\u001b[43minst\u001b[49m\u001b[38;5;241m.\u001b[39mwrite(\u001b[38;5;28mstr\u001b[39m(msg)\u001b[38;5;241m.\u001b[39mencode())\n",
      "\u001b[1;31mAttributeError\u001b[0m: 'Arduino' object has no attribute 'inst'"
     ]
    }
   ],
   "source": [
    "%load_ext autoreload\n",
    "%autoreload 2\n",
    "%matplotlib agg\n",
    "\n",
    "import pandas as pd\n",
    "import numpy as np\n",
    "import matplotlib.pyplot as plt\n",
    "       \n",
    "from HPIB.HP4155 import HP4155\n",
    "from HPIB.HPT import Plot, PlotVgs, PlotVp, CalcIsSat, SecDer, Plot2P, PlotDiode4P,WriteLog\n",
    "from HPIB.DevParams import UMC\n",
    "from HPIB.INOSerial import Arduino\n",
    "\n",
    "from BFmodule import DR\n",
    "\n",
    "from YFunc import YFuncExtraction\n",
    "#from Test import TestDevice, WriteLog\n",
    "\n",
    "from IPython.display import clear_output, display\n",
    "from os import makedirs, rename\n",
    "from os.path import isfile\n",
    "from time import sleep\n",
    "from datetime import datetime, timedelta\n",
    "\n",
    "Elsa=DR()\n",
    "\n",
    "HP=HP4155(\"GPIB0::17\", debug=False)\n",
    "\n",
    "SM=Arduino(\"COM3\")\n",
    "print(SM.ask('*'.encode()))"
   ]
  },
  {
   "cell_type": "code",
   "execution_count": null,
   "id": "47bf6e7b-0bf9-4682-bd64-4c9085607dd4",
   "metadata": {},
   "outputs": [],
   "source": [
    "prepath = \"C:/Users/Zucchi/Documents/Medidas/250424 Nb/\"\n",
    "makedirs(prepath, exist_ok=True)"
   ]
  },
  {
   "cell_type": "code",
   "execution_count": null,
   "id": "38b9e815-3a77-4cb1-85ee-9ee59e5dd929",
   "metadata": {
    "scrolled": true
   },
   "outputs": [],
   "source": [
    "def Measure4P(savepath, I=1e-3, Im='SMU1',Ip='SMU2', Vm='SMU4', Vp='SMU3'):\n",
    "    global HP, SM, Elsa\n",
    "    HP.Samp4P(I=I, Im=Im, Ip=Ip, Vm=Vm, Vp=Vp, points=10, interval=3e-3)\n",
    "    \n",
    "    now=datetime.now().strftime('%y%m%d %H%M%S')\n",
    "    name=HP.SingleSave(f\"{savepath}/4P {Im[-1]}{Ip[-1]}{Vp[-1]}{Vm[-1]}p - {now}.csv\", timeout=30)\n",
    "    R=[]\n",
    "    \n",
    "    try:\n",
    "        temp=format(Elsa.GetT('t4k'), '07.3f')\n",
    "        rename(name, name.replace('-', f'- {temp} -'))\n",
    "        name=name.replace('-', f'- {temp} -')\n",
    "    except Exception as err:\n",
    "        print (\">>> Error:\", err)\n",
    "    \n",
    "    df=pd.read_csv(name, header=[0, 1]) \n",
    "    R+=[np.average(df['Vf']['None'].to_numpy()/df['If']['None'].to_numpy())]\n",
    "    \n",
    "    \n",
    "    HP.SetSMU(Ip, 'VIp', 'Ip', 'I', 'CONS', Value=-1e-3, Comp=2)\n",
    "    now=datetime.now().strftime('%y%m%d %H%M%S')\n",
    "            \n",
    "    name=HP.SingleSave(f\"{savepath}/4P {Im[-1]}{Ip[-1]}{Vp[-1]}{Vm[-1]}m - {now}.csv\", timeout=30)\n",
    "    try:\n",
    "        temp=format(Elsa.GetT('t4k'), '07.3f')\n",
    "        rename(name, name.replace('-', f'- {temp} -'))\n",
    "        name=name.replace('-', f'- {temp} -')\n",
    "    except Exception as err:\n",
    "        print (\">>> Error:\", err)\n",
    "    df=pd.read_csv(name, header=[0, 1])\n",
    "    R+=[np.average(df['Vf']['None'].to_numpy()/df['If']['None'].to_numpy())]\n",
    "    print(R)\n",
    "    return R\n",
    "    \n",
    "def MeasureResistivity(savepath, I=1e-3):\n",
    "    makedirs(savepath, exist_ok=True)\n",
    "    R=[]\n",
    "    \n",
    "    R+=Measure4P(savepath, I=1e-3, Im='SMU1',Ip='SMU2', Vm='SMU4', Vp='SMU3')\n",
    "    R+=Measure4P(savepath, I=1e-3, Im='SMU2',Ip='SMU3', Vm='SMU1', Vp='SMU4')\n",
    "    R+=Measure4P(savepath, I=1e-3, Im='SMU3',Ip='SMU4', Vm='SMU2', Vp='SMU1')\n",
    "    R+=Measure4P(savepath, I=1e-3, Im='SMU4',Ip='SMU1', Vm='SMU3', Vp='SMU2')\n",
    "\n",
    "    return np.average(R), np.std(R), R"
   ]
  },
  {
   "cell_type": "code",
   "execution_count": null,
   "id": "ef2f6ccd-6b0b-4c0c-8ec9-542797a89c7d",
   "metadata": {},
   "outputs": [],
   "source": [
    "SM.opench(1)\n",
    "MeasureResistivity(f\"{prepath}\")"
   ]
  },
  {
   "cell_type": "code",
   "execution_count": null,
   "id": "ad311408-3422-4aa3-927d-00112724dc90",
   "metadata": {},
   "outputs": [],
   "source": [
    " current_temp=Elsa.GetT('t4k')"
   ]
  },
  {
   "cell_type": "code",
   "execution_count": null,
   "id": "8eec27a2-ea23-48d5-baa2-8f3535b1f7d2",
   "metadata": {},
   "outputs": [],
   "source": [
    "SM.opench(1)\n",
    "\n",
    "###### Warmup measurement\n",
    "\n",
    "MsrNo=1 #??? n tem tipo só uma medida nesse caso?\n",
    "\n",
    "current_temp=np.around(Elsa.GetT('t4k')) #temperatura da elza \n",
    "\n",
    "\n",
    "direction=\"cooldown\"\n",
    "freq=\"Fine\"\n",
    "finish_temp=5\n",
    "freq_temp=1 #A cada quantos kelvin ele vai medir\n",
    "\n",
    "if not isfile(f\"{prepath}/RxT {direction}.log\"):\n",
    "    with open(f\"{prepath}/RxT {direction}.log\", 'w') as MyFile:\n",
    "        MyFile.write(f\"Temp,ro,R,R1p,R1m,R2p,R2m,R3p,R3m,R4p,R4m\\n\")\n",
    "\n",
    "HP.IntTime='LONG' #TEMPO DE INTEGRAÇÃO \n",
    "HP.LongNPLC=2   #QUANTOS CICLOS DA REDE ELE VAI ADOTAR COMO TEMPO DE INTEGRAÇÃO (120HZ)\n",
    "\n",
    "#INTEGRAÇÃO PRA FAZER O VALOR MEDIO DAS MEDIDAS \n",
    "\n",
    "clear_output()\n",
    "\n",
    "prog_bar=display('',display_id=True) #FUNÇÃO DE ATUALIZAÇÃO DO PYTHON, POSSO ATUALIZAR NESSA LINHA A MEDIDA\n",
    "\n",
    "last_temp=current_temp\n",
    "\n",
    "while (last_temp >= finish_temp):\n",
    "    #loop until temp changes and is a multiple of freq_temp\n",
    "    start=datetime.now()\n",
    "    while not (np.around(current_temp)!=last_temp or current_temp%5!= 0):\n",
    "        #verifica se está na temperatura correta (25 20 15) e coisa e tal ae ele sai do loop\n",
    "        if (datetime.now()-start).seconds/60 > 120:\n",
    "            break\n",
    "        for i in range(12):\n",
    "            prog_bar.update(f\"{datetime.now().strftime('%H:%M:%S')} - T = {format(current_temp, '.1f')} K ({format(last_temp, '.1f')})\")\n",
    "            sleep(1)\n",
    "    \n",
    "        current_temp=Elsa.GetT('t4k')\n",
    "\n",
    "    last_temp=np.around(current_temp)\n",
    "\n",
    "    #aqui ele ja ta saindo a temperatura na base 5 \n",
    "    \n",
    "    for Msr in range(MsrNo): #considerando uma medida por temperatura faça:\n",
    "        plt.close('all')\n",
    "        clear_output()\n",
    "        prog_bar=display('Measuring',display_id=True) #cria uma nova aba de progressão de medida \n",
    "\n",
    "        start=datetime.now()\n",
    "        WriteLog(f\"# {current_temp} K - Measurement {Msr+1} - {datetime.now().strftime('%y%m%d %H%M')}\\n\", f'{prepath}/{direction}/log.txt')\n",
    "        SM.opench(1)\n",
    "\n",
    "        RAvg, StDevR, Rarray=MeasureResistivity(f\"{prepath}/{direction}/{freq}\")\n",
    "\n",
    "        ro=(np.pi/np.log(2))*100e-9*RAvg\n",
    "\n",
    "        with open(f\"{prepath}/RxT {direction}.log\", 'a') as MyFile:\n",
    "            MyFile.write(f\"{format(last_temp, '07.3f')},{format(ro, '.5e')},{format(RAvg, '.5e')},{','.join([format(x, '.5e') for x in Rarray])}\\n\")\n",
    "\n",
    "    \n",
    "        WriteLog(f\"{current_temp} K - Measurement {Msr+1} end . Duration: {int((datetime.now()-start).seconds/60)}:{(datetime.now()-start).seconds%60:02d}\\n\\n#######################\\n\", f'{prepath}/{direction}/log.txt')\n",
    "\n",
    "    try:\n",
    "        current_temp=Elsa.GetT('t4k')\n",
    "    except:\n",
    "        pass\n",
    "        if i < MsrNo:\n",
    "            start=datetime.now()\n",
    "            while(datetime.now()-start).seconds < MsrWait*60:\n",
    "                prog_bar.update(f\"Waiting: {int(MsrWait*60)-(datetime.now()-start).seconds} s\")\n",
    "                sleep(1)\n",
    "prog_bar.update(\"Ramp measurement done\")"
   ]
  },
  {
   "cell_type": "code",
   "execution_count": null,
   "id": "b8b2e840-17bd-4c89-a1c0-48eff65a7423",
   "metadata": {},
   "outputs": [],
   "source": [
    "###### Warmup measurement\n",
    "\n",
    "MsrNo=1 #??? n tem tipo só uma medida nesse caso?\n",
    "\n",
    "current_temp=Elsa.GetT('t4k') #temperatura da elza \n",
    "\n",
    "\n",
    "direction=\"Warmup\"\n",
    "freq=\"Coarse\"\n",
    "finish_temp=295\n",
    "freq_temp=10 #A cada quantos kelvin ele vai medir\n",
    "\n",
    "if not isfile(f\"{prepath}/RxT {direction}.log\"):\n",
    "    with open(f\"{prepath}/RxT {direction}.log\", 'w') as MyFile:\n",
    "        MyFile.write(f\"Temp,ro,R,R1p,R1m,R2p,R2m,R3p,R3m,R4p,R4m\\n\")\n",
    "\n",
    "HP.IntTime='LONG' #TEMPO DE INTEGRAÇÃO \n",
    "HP.LongNPLC=2   #QUANTOS CICLOS DA REDE ELE VAI ADOTAR COMO TEMPO DE INTEGRAÇÃO (120HZ)\n",
    "\n",
    "#INTEGRAÇÃO PRA FAZER O VALOR MEDIO DAS MEDIDAS \n",
    "\n",
    "clear_output()\n",
    "\n",
    "prog_bar=display('',display_id=True) #FUNÇÃO DE ATUALIZAÇÃO DO PYTHON, POSSO ATUALIZAR NESSA LINHA A MEDIDA\n",
    "\n",
    "last_temp=current_temp\n",
    "while (last_temp <= finish_temp):\n",
    "    #loop until temp changes and is a multiple of freq_temp\n",
    "    start=datetime.now()\n",
    "    while not (np.around(current_temp)!=last_temp and np.around(current_temp)%freq_temp==5):\n",
    "        #verifica se está na temperatura correta (25 20 15) e coisa e tal ae ele sai do loop\n",
    "        if (datetime.now()-start).seconds/60 > 120:\n",
    "            break\n",
    "        for i in range(12):\n",
    "            prog_bar.update(f\"{datetime.now().strftime('%H:%M:%S')} - T = {format(current_temp, '.1f')} K\")\n",
    "            sleep(1)\n",
    "    \n",
    "        current_temp=Elsa.GetT('t4k')\n",
    "\n",
    "    last_temp=np.around(current_temp)\n",
    "\n",
    "    #aqui ele ja ta saindo a temperatura na base 5 \n",
    "    \n",
    "    for Msr in range(MsrNo): #considerando uma medida por temperatura faça:\n",
    "        plt.close('all')\n",
    "        clear_output()\n",
    "        prog_bar=display('Measuring',display_id=True) #cria uma nova aba de progressão de medida \n",
    "\n",
    "        start=datetime.now()\n",
    "        WriteLog(f\"# {current_temp} K - Measurement {Msr+1} - {datetime.now().strftime('%y%m%d %H%M')}\\n\", f'{prepath}/{direction}/log.txt')\n",
    "        SM.opench(1)\n",
    "\n",
    "        RAvg, StDevR, Rarray=MeasureResistivity(f\"{prepath}/{direction}/{freq}\")\n",
    "\n",
    "        ro=(np.pi/np.log(2))*100e-9*RAvg\n",
    "\n",
    "        with open(f\"{prepath}/RxT {direction}.log\", 'a') as MyFile:\n",
    "            MyFile.write(f\"{format(last_temp, '07.3f')},{format(ro, '.5e')},{format(RAvg, '.5e')},{','.join([format(x, '.5e') for x in Rarray])}\\n\")\n",
    "\n",
    "    \n",
    "        WriteLog(f\"{current_temp} K - Measurement {Msr+1} end . Duration: {int((datetime.now()-start).seconds/60)}:{(datetime.now()-start).seconds%60:02d}\\n\\n#######################\\n\", f'{prepath}/{direction}/log.txt')\n",
    "\n",
    "    try:\n",
    "        current_temp=Elsa.GetT('t4k')\n",
    "    except: # perguntar qq essa marda faz\n",
    "        pass\n",
    "        if i < MsrNo:\n",
    "            start=datetime.now()\n",
    "            while(datetime.now()-start).seconds < MsrWait*60:\n",
    "                prog_bar.update(f\"Waiting: {int(MsrWait*60)-(datetime.now()-start).seconds} s\")\n",
    "                sleep(1)\n",
    "prog_bar.update(\"Ramp measurement done\")"
   ]
  },
  {
   "cell_type": "code",
   "execution_count": null,
   "id": "bf795c5a-3b35-43f0-95b5-275a88a7b7f9",
   "metadata": {},
   "outputs": [],
   "source": [
    " current_temp = np.around(Elsa.GetT('t4k'))\n",
    "print(current_temp)"
   ]
  },
  {
   "cell_type": "code",
   "execution_count": null,
   "id": "79d86b4d-cabb-4fb7-9e5e-f12de3d06add",
   "metadata": {},
   "outputs": [],
   "source": [
    "    global HP, SM, Elsa\n",
    "    HP.Samp4P(I=1e-3, Im='SMU1', Ip='SMU2', Vm='SMU4', Vp='SMU3', points=10, interval=3e-3)"
   ]
  },
  {
   "cell_type": "code",
   "execution_count": null,
   "id": "1bc975b5-00c0-4d6c-ab66-fd540bff137d",
   "metadata": {},
   "outputs": [],
   "source": [
    "prepath = \"C:/Users/Zucchi/Documents/Medidas/250517 Nb/\"\n"
   ]
  },
  {
   "cell_type": "code",
   "execution_count": null,
   "id": "935ab0f8-36b9-4bbf-8244-8be44a4c6d76",
   "metadata": {},
   "outputs": [],
   "source": [
    "I=1e-3\n",
    "Im='SMU1'\n",
    "Ip='SMU2'\n",
    "Vm='SMU4'\n",
    "Vp='SMU3'\n",
    "makedirs(prepath, exist_ok=True)\n"
   ]
  },
  {
   "cell_type": "code",
   "execution_count": null,
   "id": "f13591b6-cf0e-4096-8a97-c52a080bafde",
   "metadata": {},
   "outputs": [],
   "source": [
    "global HP, SM, Elsa\n",
    "HP.Samp4P(I=I, Im=Im, Ip=Ip, Vm=Vm, Vp=Vp, points=10, interval=3e-3)\n",
    "now=datetime.now().strftime('%y%m%d %H%M%S')\n",
    "        \n",
    "name=HP.SingleSave(f\"{prepath}/4P {Im[-1]}{Ip[-1]}{Vp[-1]}{Vm[-1]}p - {now}.csv\", timeout=30)\n",
    "print(name)\n",
    "R=[]\n",
    "try:\n",
    "    temp=format(Elsa.GetT('t4k'), '07.3f')\n",
    "    rename(name, name.replace('-', f'- {temp} -'))\n",
    "    name=name.replace('-', f'- {temp} -')\n",
    "except Exception as err:\n",
    "    print (\">>> Error:\", err)\n",
    "df=pd.read_csv(name, header=[0, 1]) \n",
    "R+=[np.average(df['Vf']['None'].to_numpy()/df['If']['None'].to_numpy())]\n",
    "print(R)"
   ]
  },
  {
   "cell_type": "code",
   "execution_count": null,
   "id": "129cc836-9967-4727-bbe6-fcfced4cf204",
   "metadata": {},
   "outputs": [],
   "source": [
    " def save_mari(self, timeout=2, real=False):\n",
    "    if self.term==\"0\": return \"Parameters not set\"\n",
    "    \n",
    "    print(f\"Measuring {self.term} \", end='')\n",
    "    self.measure()\n",
    "    \n",
    "    Poll=self.PollDR(1, 1, timeout)\n",
    "    \n",
    "    if Poll:\n",
    "        return \"Operation stopped or timeout\"\n",
    "    if real:\n",
    "        df=self.get_realdata()\n",
    "    else:\n",
    "        df=self.get_data()\n",
    "    return df"
   ]
  },
  {
   "cell_type": "code",
   "execution_count": null,
   "id": "fc0cdc18-29c4-44be-8618-e674d73aedc9",
   "metadata": {},
   "outputs": [],
   "source": [
    "prepath = \"C:/Users/Zucchi/Documents/Medidas/250521 Nb/\""
   ]
  },
  {
   "cell_type": "code",
   "execution_count": null,
   "id": "37a8e902-edd6-478e-ac4c-fe098f11c119",
   "metadata": {},
   "outputs": [],
   "source": [
    "from lib_measurement import teste\n",
    "Elsa, HP, SM = teste.connect()"
   ]
  },
  {
   "cell_type": "code",
   "execution_count": null,
   "id": "1a54a8fe-d41e-44fe-a337-a686fd0b5759",
   "metadata": {},
   "outputs": [],
   "source": [
    "\n",
    "current_temp=np.around(Elsa.GetT('t4k'))\n",
    "while(current_temp>finish_temp):\n",
    "    if(current_temp>35):\n",
    "        while current_temp == current_temp_ and current_temp%10!=0:\n",
    "            sleep(1)\n",
    "            current_temp_= no.round(Elsa.GetT('t4k'))\n",
    "    \n",
    "    else:\n",
    "        while current_temp == current_temp_:\n",
    "            sleep(1)\n",
    "            current_temp_= np.around(Elsa.GetT('t4k'))\n",
    "       \n",
    "    Rm,Ri,R,T_=teste.MeasureResistivity(Elsa, HP, SM, prepath)\n",
    "    Res.append(Rm)\n",
    "    T.append(T_)    \n",
    "        \n"
   ]
  },
  {
   "cell_type": "code",
   "execution_count": null,
   "id": "7b47f4b5-bce5-4e05-94b1-a3089474bbf2",
   "metadata": {},
   "outputs": [],
   "source": [
    "\n",
    "current_temp=Elsa.GetT('t4k')\n"
   ]
  },
  {
   "cell_type": "code",
   "execution_count": null,
   "id": "3e2ef82b-4e53-44e5-ba19-275373b79bb8",
   "metadata": {},
   "outputs": [],
   "source": [
    "plt.plot(Res, T, marker='o')\n",
    "\n",
    "# Adiciona rótulos aos eixos e título\n",
    "plt.xlabel(\"Eixo X\")\n",
    "plt.ylabel(\"Eixo Y\")\n",
    "plt.title(\"Gráfico de Pontos\")\n",
    "\n",
    "# Exibe o gráfico\n",
    "plt.show()"
   ]
  },
  {
   "cell_type": "code",
   "execution_count": null,
   "id": "b70ab2ec-69c9-4ecb-bf19-d6922bf9d3ae",
   "metadata": {},
   "outputs": [],
   "source": [
    "import matplotlib.pyplot as plt\n",
    "plt.plot(Res, T, marker='o')\n",
    "\n",
    "# Adiciona rótulos aos eixos e título\n",
    "plt.xlabel(\"Eixo X\")\n",
    "plt.ylabel(\"Eixo Y\")\n",
    "plt.title(\"Gráfico de Pontos\")\n",
    "\n",
    "# Exibe o gráfico\n",
    "plt.show()\n"
   ]
  },
  {
   "cell_type": "code",
   "execution_count": null,
   "id": "9e791455-16c2-4cbb-af48-d48cea8a200b",
   "metadata": {},
   "outputs": [],
   "source": [
    "tupla=[]\n",
    "Res=[]\n",
    "T=[]\n",
    "finish_temp=5\n",
    "Rm,Ri,R,T_=teste.MeasureResistivity(Elsa, HP, SM, prepath)\n",
    "Res.append(Rm)\n",
    "T.append(T_)\n",
    "print(Res)\n",
    "print(T)"
   ]
  },
  {
   "cell_type": "code",
   "execution_count": null,
   "id": "4c8205d7-ef64-468d-96db-46d38a795534",
   "metadata": {},
   "outputs": [],
   "source": []
  },
  {
   "cell_type": "code",
   "execution_count": 16,
   "id": "76bb21aa-ec8a-4e4f-aea7-ddce1754b28e",
   "metadata": {},
   "outputs": [
    {
     "ename": "AttributeError",
     "evalue": "'Arduino' object has no attribute 'inst'",
     "output_type": "error",
     "traceback": [
      "\u001b[1;31m---------------------------------------------------------------------------\u001b[0m",
      "\u001b[1;31mAttributeError\u001b[0m                            Traceback (most recent call last)",
      "Cell \u001b[1;32mIn[16], line 2\u001b[0m\n\u001b[0;32m      1\u001b[0m HP\u001b[38;5;241m.\u001b[39minst\u001b[38;5;241m.\u001b[39mclose()\n\u001b[1;32m----> 2\u001b[0m \u001b[43mSM\u001b[49m\u001b[38;5;241;43m.\u001b[39;49m\u001b[43minst\u001b[49m\u001b[38;5;241m.\u001b[39mclose()\n\u001b[0;32m      3\u001b[0m \u001b[38;5;28;01mdel\u001b[39;00m HP, SM\n\u001b[0;32m      4\u001b[0m \u001b[38;5;28mprint\u001b[39m(\u001b[38;5;124m\"\u001b[39m\u001b[38;5;124mComm closed\u001b[39m\u001b[38;5;124m\"\u001b[39m)\n",
      "\u001b[1;31mAttributeError\u001b[0m: 'Arduino' object has no attribute 'inst'"
     ]
    }
   ],
   "source": [
    "HP.inst.close()\n",
    "SM.inst.close()\n",
    "del HP, SM\n",
    "print(\"Comm closed\")"
   ]
  },
  {
   "cell_type": "markdown",
   "id": "363f3fa0-6823-4ad7-9ea2-ec0667c5dc1e",
   "metadata": {},
   "source": [
    "# A PARTIR DAQUI É DOCUMENTAÇÃO E HISTÓRICO DE CÓDIGOS (N MEXE ZUCHI)"
   ]
  },
  {
   "cell_type": "markdown",
   "id": "5c7d1da6-18fd-4e2c-9a58-2bb62372ceb8",
   "metadata": {},
   "source": [
    "## As libs que sempre precisa importar por algum motivo"
   ]
  },
  {
   "cell_type": "code",
   "execution_count": 1,
   "id": "26e4cd98-da12-462a-9587-0c61a801df9e",
   "metadata": {},
   "outputs": [
    {
     "name": "stdout",
     "output_type": "stream",
     "text": [
      "Opening API at 143.106.18.130\n",
      "Elsa v2.4.2\n",
      "HEWLETT-PACKARD,4155A,0,01.04:01.04:01.00\n",
      "b'*'\n",
      "\n"
     ]
    }
   ],
   "source": [
    "\n",
    "\n",
    "import pandas as pd\n",
    "import numpy as np\n",
    "import matplotlib.pyplot as plt\n",
    "       \n",
    "from HPIB.HP4155 import HP4155\n",
    "from HPIB.HPT import Plot, PlotVgs, PlotVp, CalcIsSat, SecDer, Plot2P, PlotDiode4P,WriteLog\n",
    "from HPIB.DevParams import UMC\n",
    "from HPIB.INOSerial import Arduino\n",
    "from scipy.constants import e, k\n",
    "\n",
    "\n",
    "from BFmodule import DR\n",
    "\n",
    "from YFunc import YFuncExtraction\n",
    "#from Test import TestDevice, WriteLog\n",
    "\n",
    "from IPython.display import clear_output, display\n",
    "from os import makedirs, rename\n",
    "from os.path import isfile\n",
    "from time import sleep\n",
    "from datetime import datetime, timedelta\n",
    "\n",
    "Elsa=DR()\n",
    "\n",
    "HP=HP4155(\"GPIB0::17\", debug=False)\n",
    "\n",
    "SM=Arduino(\"COM3\")\n",
    "print(SM.ask('*'.encode()))"
   ]
  },
  {
   "cell_type": "markdown",
   "id": "8a754113-54bc-4196-a3dd-f5afbc440f10",
   "metadata": {},
   "source": [
    "## Abrindo porta para conexão da elza pela switch matrix"
   ]
  },
  {
   "cell_type": "code",
   "execution_count": 3,
   "id": "2959ac9d-6027-4389-a790-19c314dec828",
   "metadata": {},
   "outputs": [
    {
     "data": {
      "text/plain": [
       "'Open INO: ch 3'"
      ]
     },
     "execution_count": 3,
     "metadata": {},
     "output_type": "execute_result"
    }
   ],
   "source": [
    "SM.opench(3)"
   ]
  },
  {
   "cell_type": "markdown",
   "id": "288f5a81-5a6d-4a35-b6b7-0e6c10550680",
   "metadata": {},
   "source": [
    "## Configurando o hp"
   ]
  },
  {
   "cell_type": "code",
   "execution_count": null,
   "id": "9eac7535-2b9c-4335-8c73-a4d8bb684763",
   "metadata": {},
   "outputs": [],
   "source": [
    "self.SetSMU(Im, 'V1', 'I1')\n",
    "#aqui eu defino \n",
    "# definição sem nome (self, SMUno, VNAME, INAME, Mode='COMM', Func='CONS', Comp='1e-3', SRES='0OHM', Value=0)"
   ]
  },
  {
   "cell_type": "code",
   "execution_count": 2,
   "id": "0df820ca-8c92-4ccb-b1f5-c9cea76eb9e9",
   "metadata": {},
   "outputs": [
    {
     "name": "stdout",
     "output_type": "stream",
     "text": [
      "Set 4P\n"
     ]
    },
    {
     "data": {
      "text/plain": [
       "0"
      ]
     },
     "execution_count": 2,
     "metadata": {},
     "output_type": "execute_result"
    }
   ],
   "source": [
    "HP.Set4PSMU(-0.5, 1, 0.01, Im='SMU1', Ip='SMU2', Vm='SMU3', Vp='SMU4', Comp=2e-3)\n",
    "    #self.SetSMU(Im, 'V1', 'I1')   Define como referencia da fonte de corrente \n",
    "    #self.SetSMU(Ip, 'V2', 'I2', 'I', 'VAR1', Comp=Comp)    Define a fonte de corrente como variavel\n",
    "    #self.SetSMU(Vm, 'V3', 'I3', 'I', 'CONS', Value=0, Comp=Comp)  \n",
    "    #self.SetSMU(Vp, 'V4', 'I4', 'I', 'CONS', Value=0, Comp=Comp)\n",
    "    #self.SetVar('VAR1', 'I', Istart, Istop, (Istop-Istart)/(Points))\n",
    "\n"
   ]
  }
 ],
 "metadata": {
  "kernelspec": {
   "display_name": "Python 3 (ipykernel)",
   "language": "python",
   "name": "python3"
  },
  "language_info": {
   "codemirror_mode": {
    "name": "ipython",
    "version": 3
   },
   "file_extension": ".py",
   "mimetype": "text/x-python",
   "name": "python",
   "nbconvert_exporter": "python",
   "pygments_lexer": "ipython3",
   "version": "3.11.4"
  }
 },
 "nbformat": 4,
 "nbformat_minor": 5
}

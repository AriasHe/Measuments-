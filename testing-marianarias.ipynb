{
 "cells": [
  {
   "cell_type": "code",
   "execution_count": 1,
   "id": "20e58b1f-b0b8-4463-8d40-d4191bfd97f2",
   "metadata": {},
   "outputs": [
    {
     "name": "stdout",
     "output_type": "stream",
     "text": [
      "Opening API at 143.106.18.130\n",
      "Elsa v2.4.2\n",
      "HEWLETT-PACKARD,4155A,0,01.04:01.04:01.00\n",
      "Comm Er\n"
     ]
    },
    {
     "ename": "AttributeError",
     "evalue": "'Arduino' object has no attribute 'inst'",
     "output_type": "error",
     "traceback": [
      "\u001b[1;31m---------------------------------------------------------------------------\u001b[0m",
      "\u001b[1;31mAttributeError\u001b[0m                            Traceback (most recent call last)",
      "Cell \u001b[1;32mIn[1], line 32\u001b[0m\n\u001b[0;32m     29\u001b[0m HP\u001b[38;5;241m.\u001b[39mreset()\n\u001b[0;32m     31\u001b[0m SM\u001b[38;5;241m=\u001b[39mArduino(\u001b[38;5;124m\"\u001b[39m\u001b[38;5;124mCOM3\u001b[39m\u001b[38;5;124m\"\u001b[39m)\n\u001b[1;32m---> 32\u001b[0m \u001b[38;5;28mprint\u001b[39m(\u001b[43mSM\u001b[49m\u001b[38;5;241;43m.\u001b[39;49m\u001b[43mask\u001b[49m\u001b[43m(\u001b[49m\u001b[38;5;124;43m'\u001b[39;49m\u001b[38;5;124;43m*\u001b[39;49m\u001b[38;5;124;43m'\u001b[39;49m\u001b[38;5;241;43m.\u001b[39;49m\u001b[43mencode\u001b[49m\u001b[43m(\u001b[49m\u001b[43m)\u001b[49m\u001b[43m)\u001b[49m)\n",
      "File \u001b[1;32m~\\Jupyter\\HPIB\\HPIB\\INOSerial.py:20\u001b[0m, in \u001b[0;36mArduino.ask\u001b[1;34m(self, msg)\u001b[0m\n\u001b[0;32m     19\u001b[0m \u001b[38;5;28;01mdef\u001b[39;00m \u001b[38;5;21mask\u001b[39m(\u001b[38;5;28mself\u001b[39m, msg):\n\u001b[1;32m---> 20\u001b[0m     \u001b[38;5;28;43mself\u001b[39;49m\u001b[38;5;241;43m.\u001b[39;49m\u001b[43mwrite\u001b[49m\u001b[43m(\u001b[49m\u001b[43mmsg\u001b[49m\u001b[43m)\u001b[49m\n\u001b[0;32m     21\u001b[0m     time\u001b[38;5;241m.\u001b[39msleep(\u001b[38;5;241m0.01\u001b[39m)\n\u001b[0;32m     22\u001b[0m     \u001b[38;5;28;01mreturn\u001b[39;00m \u001b[38;5;28mself\u001b[39m\u001b[38;5;241m.\u001b[39mread()\n",
      "File \u001b[1;32m~\\Jupyter\\HPIB\\HPIB\\INOSerial.py:14\u001b[0m, in \u001b[0;36mArduino.write\u001b[1;34m(self, msg)\u001b[0m\n\u001b[0;32m     13\u001b[0m \u001b[38;5;28;01mdef\u001b[39;00m \u001b[38;5;21mwrite\u001b[39m(\u001b[38;5;28mself\u001b[39m, msg):\n\u001b[1;32m---> 14\u001b[0m     \u001b[38;5;28;43mself\u001b[39;49m\u001b[38;5;241;43m.\u001b[39;49m\u001b[43minst\u001b[49m\u001b[38;5;241m.\u001b[39mwrite(\u001b[38;5;28mstr\u001b[39m(msg)\u001b[38;5;241m.\u001b[39mencode())\n",
      "\u001b[1;31mAttributeError\u001b[0m: 'Arduino' object has no attribute 'inst'"
     ]
    }
   ],
   "source": [
    "%load_ext autoreload\n",
    "%autoreload 2\n",
    "%matplotlib agg\n",
    "\n",
    "import pandas as pd\n",
    "import numpy as np\n",
    "import matplotlib.pyplot as plt\n",
    "       \n",
    "from HPIB.HP4155 import HP4155\n",
    "from HPIB.HPT import Plot, PlotVgs, PlotVp, CalcIsSat, SecDer, Plot2P, PlotDiode4P,WriteLog\n",
    "from HPIB.DevParams import UMC\n",
    "from HPIB.INOSerial import Arduino\n",
    "\n",
    "from BFmodule import DR\n",
    "\n",
    "from YFunc import YFuncExtraction\n",
    "#from Test import TestDevice, WriteLog\n",
    "\n",
    "from IPython.display import clear_output, display\n",
    "from os import makedirs, rename\n",
    "from os.path import isfile\n",
    "from time import sleep\n",
    "from datetime import datetime, timedelta\n",
    "\n",
    "Elsa=DR()\n",
    "\n",
    "HP=HP4155(\"GPIB0::17\", debug=False)\n",
    "HP.IntTime=\"LONG\"\n",
    "HP.reset()\n",
    "\n",
    "SM=Arduino(\"COM3\")\n",
    "print(SM.ask('*'.encode()))"
   ]
  },
  {
   "cell_type": "code",
   "execution_count": null,
   "id": "5fec1730-d811-42c9-a912-6fad674d382e",
   "metadata": {},
   "outputs": [],
   "source": [
    "prepath = \"C:/Users/Zucchi/Documents/Medidas/250424 Nb/\"\n",
    "makedirs(prepath, exist_ok=True)"
   ]
  },
  {
   "cell_type": "code",
   "execution_count": null,
   "id": "cd150cfb-0551-4c1f-85d7-6d955e80d3ae",
   "metadata": {},
   "outputs": [],
   "source": [
    "def Measure4P(savepath, I=1e-3, Im='SMU1',Ip='SMU2', Vm='SMU4', Vp='SMU3'):\n",
    "    global HP, SM, Elsa\n",
    "    HP.Samp4P(I=I, Im=Im, Ip=Ip, Vm=Vm, Vp=Vp, points=10, interval=3e-3)\n",
    "    now=datetime.now().strftime('%y%m%d %H%M%S')\n",
    "            \n",
    "    name=HP.SingleSave(f\"{savepath}/4P {Im[-1]}{Ip[-1]}{Vp[-1]}{Vm[-1]}p - {now}.csv\", timeout=30)\n",
    "    R=[]\n",
    "    try:\n",
    "        temp=format(Elsa.GetT('t4k'), '07.3f')\n",
    "        rename(name, name.replace('-', f'- {temp} -'))\n",
    "        name=name.replace('-', f'- {temp} -')\n",
    "    except Exception as err:\n",
    "        print (\">>> Error:\", err)\n",
    "    df=pd.read_csv(name, header=[0, 1]) \n",
    "    R+=[np.average(df['Vf']['None'].to_numpy()/df['If']['None'].to_numpy())]\n",
    "    \n",
    "    \n",
    "    HP.SetSMU(Ip, 'VIp', 'Ip', 'I', 'CONS', Value=-1e-3, Comp=2)\n",
    "    now=datetime.now().strftime('%y%m%d %H%M%S')\n",
    "            \n",
    "    name=HP.SingleSave(f\"{savepath}/4P {Im[-1]}{Ip[-1]}{Vp[-1]}{Vm[-1]}m - {now}.csv\", timeout=30)\n",
    "    try:\n",
    "        temp=format(Elsa.GetT('t4k'), '07.3f')\n",
    "        rename(name, name.replace('-', f'- {temp} -'))\n",
    "        name=name.replace('-', f'- {temp} -')\n",
    "    except Exception as err:\n",
    "        print (\">>> Error:\", err)\n",
    "    df=pd.read_csv(name, header=[0, 1])\n",
    "    R+=[np.average(df['Vf']['None'].to_numpy()/df['If']['None'].to_numpy())]\n",
    "    \n",
    "    return R\n",
    "    \n",
    "def MeasureResistivity(savepath, I=1e-3):\n",
    "    makedirs(savepath, exist_ok=True)\n",
    "    R=[]\n",
    "    \n",
    "    R+=Measure4P(savepath, I=1e-3, Im='SMU1',Ip='SMU2', Vm='SMU4', Vp='SMU3')\n",
    "    R+=Measure4P(savepath, I=1e-3, Im='SMU2',Ip='SMU3', Vm='SMU1', Vp='SMU4')\n",
    "    R+=Measure4P(savepath, I=1e-3, Im='SMU3',Ip='SMU4', Vm='SMU2', Vp='SMU1')\n",
    "    R+=Measure4P(savepath, I=1e-3, Im='SMU4',Ip='SMU1', Vm='SMU3', Vp='SMU2')\n",
    "\n",
    "    return np.average(R), np.std(R), R"
   ]
  },
  {
   "cell_type": "code",
   "execution_count": null,
   "id": "3db0ac42-45ee-49d9-b21f-3e71d199cd08",
   "metadata": {},
   "outputs": [],
   "source": [
    "SM.opench(1)\n",
    "\n",
    "###### Warmup measurement\n",
    "\n",
    "MsrNo=1 #??? n tem tipo só uma medida nesse caso?\n",
    "\n",
    "current_temp=np.around(Elsa.GetT('t4k')) #temperatura da elza \n",
    "\n",
    "\n",
    "direction=\"Warmup\"\n",
    "freq=\"Fine\"\n",
    "finish_temp=30\n",
    "freq_temp=1 #A cada quantos kelvin ele vai medir\n",
    "\n",
    "if not isfile(f\"{prepath}/RxT {direction}.log\"):\n",
    "    with open(f\"{prepath}/RxT {direction}.log\", 'w') as MyFile:\n",
    "        MyFile.write(f\"Temp,ro,R,R1p,R1m,R2p,R2m,R3p,R3m,R4p,R4m\\n\")\n",
    "\n",
    "HP.IntTime='LONG' #TEMPO DE INTEGRAÇÃO \n",
    "HP.LongNPLC=2   #QUANTOS CICLOS DA REDE ELE VAI ADOTAR COMO TEMPO DE INTEGRAÇÃO (120HZ)\n",
    "\n",
    "#INTEGRAÇÃO PRA FAZER O VALOR MEDIO DAS MEDIDAS \n",
    "\n",
    "clear_output()\n",
    "\n",
    "prog_bar=display('',display_id=True) #FUNÇÃO DE ATUALIZAÇÃO DO PYTHON, POSSO ATUALIZAR NESSA LINHA A MEDIDA\n",
    "\n",
    "last_temp=current_temp\n",
    "\n",
    "while (last_temp <= finish_temp):\n",
    "    #loop until temp changes and is a multiple of freq_temp\n",
    "    start=datetime.now()\n",
    "    while not (np.around(current_temp)!=last_temp):\n",
    "        #verifica se está na temperatura correta (25 20 15) e coisa e tal ae ele sai do loop\n",
    "        if (datetime.now()-start).seconds/60 > 120:\n",
    "            break\n",
    "        for i in range(12):\n",
    "            prog_bar.update(f\"{datetime.now().strftime('%H:%M:%S')} - T = {format(current_temp, '.1f')} K ({format(last_temp, '.1f')})\")\n",
    "            sleep(1)\n",
    "    \n",
    "        current_temp=Elsa.GetT('t4k')\n",
    "\n",
    "    last_temp=np.around(current_temp)\n",
    "\n",
    "    #aqui ele ja ta saindo a temperatura na base 5 \n",
    "    \n",
    "    for Msr in range(MsrNo): #considerando uma medida por temperatura faça:\n",
    "        plt.close('all')\n",
    "        clear_output()\n",
    "        prog_bar=display('Measuring',display_id=True) #cria uma nova aba de progressão de medida \n",
    "\n",
    "        start=datetime.now()\n",
    "        WriteLog(f\"# {current_temp} K - Measurement {Msr+1} - {datetime.now().strftime('%y%m%d %H%M')}\\n\", f'{prepath}/{direction}/log.txt')\n",
    "        SM.opench(1)\n",
    "\n",
    "        RAvg, StDevR, Rarray=MeasureResistivity(f\"{prepath}/{direction}/{freq}\")\n",
    "\n",
    "        ro=(np.pi/np.log(2))*100e-9*RAvg\n",
    "\n",
    "        with open(f\"{prepath}/RxT {direction}.log\", 'a') as MyFile:\n",
    "            MyFile.write(f\"{format(last_temp, '07.3f')},{format(ro, '.5e')},{format(RAvg, '.5e')},{','.join([format(x, '.5e') for x in Rarray])}\\n\")\n",
    "\n",
    "    \n",
    "        WriteLog(f\"{current_temp} K - Measurement {Msr+1} end . Duration: {int((datetime.now()-start).seconds/60)}:{(datetime.now()-start).seconds%60:02d}\\n\\n#######################\\n\", f'{prepath}/{direction}/log.txt')\n",
    "\n",
    "    try:\n",
    "        current_temp=Elsa.GetT('t4k')\n",
    "    except:\n",
    "        pass\n",
    "        if i < MsrNo:\n",
    "            start=datetime.now()\n",
    "            while(datetime.now()-start).seconds < MsrWait*60:\n",
    "                prog_bar.update(f\"Waiting: {int(MsrWait*60)-(datetime.now()-start).seconds} s\")\n",
    "                sleep(1)\n",
    "prog_bar.update(\"Ramp measurement done\")"
   ]
  },
  {
   "cell_type": "code",
   "execution_count": 2,
   "id": "5933cfb0-d814-46c4-961b-561fea351459",
   "metadata": {},
   "outputs": [
    {
     "ename": "NameError",
     "evalue": "name 'INO' is not defined",
     "output_type": "error",
     "traceback": [
      "\u001b[1;31m---------------------------------------------------------------------------\u001b[0m",
      "\u001b[1;31mNameError\u001b[0m                                 Traceback (most recent call last)",
      "Cell \u001b[1;32mIn[2], line 2\u001b[0m\n\u001b[0;32m      1\u001b[0m HP\u001b[38;5;241m.\u001b[39mclose()\n\u001b[1;32m----> 2\u001b[0m \u001b[43mINO\u001b[49m\u001b[38;5;241m.\u001b[39mclose()\n\u001b[0;32m      3\u001b[0m \u001b[38;5;28mprint\u001b[39m(\u001b[38;5;124m\"\u001b[39m\u001b[38;5;124mComm closed\u001b[39m\u001b[38;5;124m\"\u001b[39m)\n",
      "\u001b[1;31mNameError\u001b[0m: name 'INO' is not defined"
     ]
    }
   ],
   "source": [
    "HP.close()\n",
    "INO.close()\n",
    "print(\"Comm closed\")"
   ]
  },
  {
   "cell_type": "code",
   "execution_count": 1,
   "id": "e285be40-5a78-486c-8fbc-8c08a5b8b3d8",
   "metadata": {},
   "outputs": [
    {
     "ename": "SyntaxError",
     "evalue": "invalid syntax (2528260288.py, line 10)",
     "output_type": "error",
     "traceback": [
      "\u001b[1;36m  Cell \u001b[1;32mIn[1], line 10\u001b[1;36m\u001b[0m\n\u001b[1;33m    if(current_temp<20){\u001b[0m\n\u001b[1;37m                       ^\u001b[0m\n\u001b[1;31mSyntaxError\u001b[0m\u001b[1;31m:\u001b[0m invalid syntax\n"
     ]
    }
   ],
   "source": [
    "current_temp=np.around(Elsa.GetT('t4k')) #temperatura da elza \n",
    "\n",
    "HP.IntTime='LONG' #TEMPO DE INTEGRAÇÃO \n",
    "HP.LongNPLC=2   #QUANTOS CICLOS DA REDE ELE VAI ADOTAR COMO TEMPO DE INTEGRAÇÃO (120HZ)\n",
    "\n",
    "#INTEGRAÇÃO PRA FAZER O VALOR MEDIO DAS MEDIDAS \n",
    "if(current_temp<20){\n",
    "    #warmup\n",
    "    last_temperature = 200\n",
    "    inc = 1\n",
    "}else{\n",
    "    #cooldown\n",
    "    last_temperature = 5\n",
    "    inc = 0\n",
    "}\n",
    "\n",
    "while(abs(last_temperature - current_temperature) > 2):\n",
    "    temperature_conf(10,1)\n",
    "    \n",
    "\n",
    "\n"
   ]
  },
  {
   "cell_type": "code",
   "execution_count": 17,
   "id": "02040446-8aa1-4079-938c-335bcf5af94e",
   "metadata": {},
   "outputs": [
    {
     "ename": "NameError",
     "evalue": "name 'Elsa' is not defined",
     "output_type": "error",
     "traceback": [
      "\u001b[1;31m---------------------------------------------------------------------------\u001b[0m",
      "\u001b[1;31mNameError\u001b[0m                                 Traceback (most recent call last)",
      "Cell \u001b[1;32mIn[17], line 12\u001b[0m\n\u001b[0;32m      9\u001b[0m         current_temp \u001b[38;5;241m=\u001b[39m np\u001b[38;5;241m.\u001b[39maround(Elsa\u001b[38;5;241m.\u001b[39mGetT(\u001b[38;5;124m'\u001b[39m\u001b[38;5;124mt4k\u001b[39m\u001b[38;5;124m'\u001b[39m))\n\u001b[0;32m     10\u001b[0m     \u001b[38;5;28mprint\u001b[39m(current_temp)\n\u001b[1;32m---> 12\u001b[0m \u001b[43mtemperature_conf\u001b[49m\u001b[43m(\u001b[49m\u001b[43m)\u001b[49m\n",
      "Cell \u001b[1;32mIn[17], line 2\u001b[0m, in \u001b[0;36mtemperature_conf\u001b[1;34m()\u001b[0m\n\u001b[0;32m      1\u001b[0m \u001b[38;5;28;01mdef\u001b[39;00m \u001b[38;5;21mtemperature_conf\u001b[39m():\n\u001b[1;32m----> 2\u001b[0m     last_temp \u001b[38;5;241m=\u001b[39m np\u001b[38;5;241m.\u001b[39maround(\u001b[43mElsa\u001b[49m\u001b[38;5;241m.\u001b[39mGetT(\u001b[38;5;124m'\u001b[39m\u001b[38;5;124mt4k\u001b[39m\u001b[38;5;124m'\u001b[39m))\n\u001b[0;32m      3\u001b[0m     \u001b[38;5;28;01mif\u001b[39;00m(last_temp \u001b[38;5;241m>\u001b[39m \u001b[38;5;241m30\u001b[39m):\n\u001b[0;32m      4\u001b[0m         step \u001b[38;5;241m=\u001b[39m \u001b[38;5;241m5\u001b[39m\n",
      "\u001b[1;31mNameError\u001b[0m: name 'Elsa' is not defined"
     ]
    }
   ],
   "source": [
    "\n",
    "\n",
    "def temperature_conf(step_,step_fine):\n",
    "    current_temp = np.around(Elsa.GetT('t4k'))\n",
    "    last_temp = current_temp\n",
    "    if(current_temp > 30):\n",
    "        step = step_\n",
    "    else:\n",
    "        step = step_fine\n",
    "    while (current_temp == last_temp or ((current_temp % step)!= 0)):\n",
    "        last_temp = current_temp\n",
    "        current_temp = np.around(Elsa.GetT('t4k'))\n",
    "        sleep(1)\n",
    "    print(current_temp)\n",
    "\n",
    "temperature_conf(10,1)\n"
   ]
  },
  {
   "cell_type": "code",
   "execution_count": 12,
   "id": "704d6e3e-4636-48fb-8751-baf59fb0f9fb",
   "metadata": {},
   "outputs": [],
   "source": [
    "from time import sleep \n",
    "from IPython.display import clear_output, display\n",
    "\n",
    "s=input(\"Only one measure?(y/n) \")\n",
    "if(s=='y'):\n",
    "    print(\"show\")\n",
    "if(s=='n'):\n",
    "    print(\"e isso ae\")\n",
    "sleep(3)\n",
    "clear_output()"
   ]
  },
  {
   "cell_type": "code",
   "execution_count": null,
   "id": "55c43baa-40e2-4ee6-829a-b01afaabbcc9",
   "metadata": {},
   "outputs": [],
   "source": [
    "    def SingleSave(self, path=\".\", timeout=2, real=False):\n",
    "        if self.term==\"0\": return \"Parameters not set\"\n",
    "        \n",
    "        print(f\"Measuring {self.term} \", end='')\n",
    "        self.measure()\n",
    "        \n",
    "        Poll=self.PollDR(1, 1, timeout)\n",
    "        \n",
    "        if Poll:\n",
    "            return \"Operation stopped or timeout\"\n",
    "        if real:\n",
    "            df=self.get_realdata()\n",
    "        else:\n",
    "            df=self.get_data()"
   ]
  }
 ],
 "metadata": {
  "kernelspec": {
   "display_name": "Python 3 (ipykernel)",
   "language": "python",
   "name": "python3"
  },
  "language_info": {
   "codemirror_mode": {
    "name": "ipython",
    "version": 3
   },
   "file_extension": ".py",
   "mimetype": "text/x-python",
   "name": "python",
   "nbconvert_exporter": "python",
   "pygments_lexer": "ipython3",
   "version": "3.11.4"
  }
 },
 "nbformat": 4,
 "nbformat_minor": 5
}

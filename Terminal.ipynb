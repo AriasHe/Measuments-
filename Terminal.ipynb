{
 "cells": [
  {
   "cell_type": "code",
   "execution_count": 3,
   "id": "c0019b11-9f70-4146-b3fa-2249b96f68f8",
   "metadata": {},
   "outputs": [],
   "source": [
    "%load_ext autoreload\n",
    "%autoreload 2\n",
    "\n",
    "import pandas as pd\n",
    "import numpy as np\n",
    "import matplotlib.pyplot as plt\n",
    "\n",
    "from BFmodule import DR"
   ]
  },
  {
   "cell_type": "code",
   "execution_count": null,
   "id": "885ccd10-1cbd-4983-9ed8-c7d2730456e3",
   "metadata": {},
   "outputs": [],
   "source": [
    "Elsa=DR()"
   ]
  },
  {
   "cell_type": "code",
   "execution_count": 1,
   "id": "d0064553-66b3-4f5f-bc72-96b29979ae8c",
   "metadata": {},
   "outputs": [],
   "source": [
    "from HPIB.HP4155 import HP4155\n",
    "from HPIB.HPT import Plot, PlotVgs, PlotVp, CalcIsSat, SecDer, Plot2P\n",
    "from HPIB.DevParams import UMC\n",
    "from HPIB.INOSerial import Arduino\n",
    "\n",
    "from YFunc import YFuncExtraction\n",
    "\n",
    "from IPython.display import clear_output, display\n",
    "from os import makedirs, rename\n",
    "from time import sleep\n",
    "from datetime import datetime, timedelta\n",
    "\n",
    "prepath = \"C:/Users/Zucchi/Documents/Medidas/Teste/\"\n",
    "makedirs(prepath, exist_ok=True)"
   ]
  },
  {
   "cell_type": "code",
   "execution_count": 7,
   "id": "25db54b0-de7f-45b2-a087-8b69032e5cd6",
   "metadata": {},
   "outputs": [
    {
     "name": "stdout",
     "output_type": "stream",
     "text": [
      "7.10118564368918e-07\n"
     ]
    }
   ],
   "source": [
    "R=638.254e-3\n",
    "R=1/R\n",
    "ro=(np.pi/np.log(2))*100e-9*R\n",
    "print(ro)"
   ]
  },
  {
   "cell_type": "code",
   "execution_count": 4,
   "id": "329994c1-91d9-4db5-9c6e-2b1bdeb9e15c",
   "metadata": {},
   "outputs": [
    {
     "ename": "NameError",
     "evalue": "name 'HP4155' is not defined",
     "output_type": "error",
     "traceback": [
      "\u001b[1;31m---------------------------------------------------------------------------\u001b[0m",
      "\u001b[1;31mNameError\u001b[0m                                 Traceback (most recent call last)",
      "Cell \u001b[1;32mIn[4], line 2\u001b[0m\n\u001b[0;32m      1\u001b[0m \u001b[38;5;28;01mif\u001b[39;00m \u001b[38;5;28;01mTrue\u001b[39;00m:\n\u001b[1;32m----> 2\u001b[0m     HP\u001b[38;5;241m=\u001b[39m\u001b[43mHP4155\u001b[49m(\u001b[38;5;124m\"\u001b[39m\u001b[38;5;124mGPIB0::17\u001b[39m\u001b[38;5;124m\"\u001b[39m, debug\u001b[38;5;241m=\u001b[39m\u001b[38;5;28;01mFalse\u001b[39;00m)\n\u001b[0;32m      3\u001b[0m     HP\u001b[38;5;241m.\u001b[39mreset()\n\u001b[0;32m      4\u001b[0m     HP\u001b[38;5;241m.\u001b[39mIntTime\u001b[38;5;241m=\u001b[39m\u001b[38;5;124m\"\u001b[39m\u001b[38;5;124mLONG\u001b[39m\u001b[38;5;124m\"\u001b[39m\n",
      "\u001b[1;31mNameError\u001b[0m: name 'HP4155' is not defined"
     ]
    }
   ],
   "source": [
    "if True:\n",
    "    HP=HP4155(\"GPIB0::17\", debug=False)\n",
    "    HP.reset()\n",
    "    HP.IntTime=\"LONG\"\n",
    "\n",
    "    INO=Arduino(\"COM3\")\n",
    "    print(INO.ask('*'.encode()))"
   ]
  },
  {
   "cell_type": "code",
   "execution_count": 20,
   "id": "d7c4f7bd-2b7a-4f86-bcea-391ca3a96fa6",
   "metadata": {},
   "outputs": [
    {
     "data": {
      "text/plain": [
       "'Open INO: ch 1'"
      ]
     },
     "execution_count": 20,
     "metadata": {},
     "output_type": "execute_result"
    }
   ],
   "source": [
    "INO.opench(1)"
   ]
  },
  {
   "cell_type": "code",
   "execution_count": 16,
   "id": "84fb8b04-a401-4b3f-bd36-bcfd7d9c7f36",
   "metadata": {},
   "outputs": [
    {
     "name": "stdout",
     "output_type": "stream",
     "text": [
      "Set IdxVgs\n",
      "Vg=(0, 1.5, 0.05), Vd=0.025, Ilim=0.001\n"
     ]
    },
    {
     "data": {
      "text/plain": [
       "0"
      ]
     },
     "execution_count": 16,
     "metadata": {},
     "output_type": "execute_result"
    }
   ],
   "source": [
    "HP.SetVgs(0, 1.5, 0.05, ptype=False)"
   ]
  },
  {
   "cell_type": "code",
   "execution_count": 14,
   "id": "31e1dff8-123f-4fad-9338-4a5eee80592c",
   "metadata": {},
   "outputs": [
    {
     "name": "stdout",
     "output_type": "stream",
     "text": [
      "Set Diode\n",
      "Vf=(1.2, -1.2)\n"
     ]
    },
    {
     "data": {
      "text/plain": [
       "0"
      ]
     },
     "execution_count": 14,
     "metadata": {},
     "output_type": "execute_result"
    }
   ],
   "source": [
    "HP.SetDiode(-1.2, 1.2, 0.1"
   ]
  },
  {
   "cell_type": "code",
   "execution_count": 24,
   "id": "0ccdd858-545d-4bcd-9922-267aca957b9c",
   "metadata": {},
   "outputs": [
    {
     "name": "stdout",
     "output_type": "stream",
     "text": [
      "Set ICV2P\n",
      "V=0.01, Ilim=0.01,  interval=0.01, points=6\n"
     ]
    }
   ],
   "source": [
    "HP.ICV2P(V=0.01)"
   ]
  },
  {
   "cell_type": "code",
   "execution_count": null,
   "id": "029f58a4-d681-4c18-a7ac-60517b118599",
   "metadata": {},
   "outputs": [],
   "source": []
  }
 ],
 "metadata": {
  "kernelspec": {
   "display_name": "Python 3 (ipykernel)",
   "language": "python",
   "name": "python3"
  },
  "language_info": {
   "codemirror_mode": {
    "name": "ipython",
    "version": 3
   },
   "file_extension": ".py",
   "mimetype": "text/x-python",
   "name": "python",
   "nbconvert_exporter": "python",
   "pygments_lexer": "ipython3",
   "version": "3.11.4"
  }
 },
 "nbformat": 4,
 "nbformat_minor": 5
}
